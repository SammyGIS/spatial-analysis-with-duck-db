{
 "cells": [
  {
   "cell_type": "markdown",
   "metadata": {},
   "source": [
    "Using duckdb with Python API"
   ]
  },
  {
   "cell_type": "code",
   "execution_count": 8,
   "metadata": {},
   "outputs": [
    {
     "name": "stdout",
     "output_type": "stream",
     "text": [
      "\u001b[33mThere's a new jupysql version available (0.10.7), you're running 0.10.2. To upgrade: pip install jupysql --upgrade\u001b[0m\n"
     ]
    }
   ],
   "source": [
    "#import the libaries\n",
    "import duckdb\n",
    "import pandas as  pd\n",
    "# import leafmap\n",
    "import os\n",
    "\n",
    "%load_ext sql"
   ]
  },
  {
   "cell_type": "code",
   "execution_count": 9,
   "metadata": {},
   "outputs": [],
   "source": [
    "%config SqlMagic.autopandas = True\n",
    "%config SqlMagic.feedback = False\n",
    "%config SqlMagic.displaycon = False"
   ]
  },
  {
   "cell_type": "markdown",
   "metadata": {},
   "source": [
    "To download the data used in this analysis"
   ]
  },
  {
   "cell_type": "code",
   "execution_count": 10,
   "metadata": {},
   "outputs": [],
   "source": [
    "# url = \n",
    "# leafmap.download_file(url,unzip=True)"
   ]
  },
  {
   "cell_type": "code",
   "execution_count": 11,
   "metadata": {},
   "outputs": [
    {
     "name": "stdout",
     "output_type": "stream",
     "text": [
      "gis_osm_buildings_a_free_1.shp\n",
      "gis_osm_landuse_a_free_1.shp\n",
      "gis_osm_natural_a_free_1.shp\n",
      "gis_osm_natural_free_1.shp\n",
      "gis_osm_places_a_free_1.shp\n",
      "gis_osm_places_free_1.shp\n",
      "gis_osm_pofw_a_free_1.shp\n",
      "gis_osm_pofw_free_1.shp\n",
      "gis_osm_pois_a_free_1.shp\n",
      "gis_osm_pois_free_1.shp\n",
      "gis_osm_railways_free_1.shp\n",
      "gis_osm_roads_free_1.shp\n",
      "gis_osm_traffic_a_free_1.shp\n",
      "gis_osm_traffic_free_1.shp\n",
      "gis_osm_transport_a_free_1.shp\n",
      "gis_osm_transport_free_1.shp\n",
      "gis_osm_waterways_free_1.shp\n",
      "gis_osm_water_a_free_1.shp\n"
     ]
    }
   ],
   "source": [
    "# load the data in the osm folder\n",
    "data_folder = r'data\\nigeria-latest-free.shp'\n",
    "data = os.listdir(data_folder)\n",
    "for item in data:\n",
    "    if item.endswith('.shp'):\n",
    "        print(item)"
   ]
  },
  {
   "cell_type": "markdown",
   "metadata": {},
   "source": [
    "Connecting to Duckdb"
   ]
  },
  {
   "cell_type": "code",
   "execution_count": 12,
   "metadata": {},
   "outputs": [],
   "source": [
    "con = duckdb.connect(\"nigeria.db\")"
   ]
  },
  {
   "cell_type": "markdown",
   "metadata": {},
   "source": [
    "Install and load spatial extension"
   ]
  },
  {
   "cell_type": "code",
   "execution_count": 13,
   "metadata": {},
   "outputs": [],
   "source": [
    "con.install_extension('spatial')\n",
    "con.load_extension('spatial')"
   ]
  },
  {
   "cell_type": "code",
   "execution_count": 14,
   "metadata": {},
   "outputs": [
    {
     "data": {
      "text/plain": [
       "┌─────────┐\n",
       "│  name   │\n",
       "│ varchar │\n",
       "├─────────┤\n",
       "│ 0 rows  │\n",
       "└─────────┘"
      ]
     },
     "execution_count": 14,
     "metadata": {},
     "output_type": "execute_result"
    }
   ],
   "source": [
    "con.sql(\"SHOW TABLES\")"
   ]
  },
  {
   "cell_type": "code",
   "execution_count": 16,
   "metadata": {},
   "outputs": [
    {
     "ename": "TypeError",
     "evalue": "expected str, bytes or os.PathLike object, not set",
     "output_type": "error",
     "traceback": [
      "\u001b[1;31m---------------------------------------------------------------------------\u001b[0m",
      "\u001b[1;31mTypeError\u001b[0m                                 Traceback (most recent call last)",
      "Cell \u001b[1;32mIn[16], line 1\u001b[0m\n\u001b[1;32m----> 1\u001b[0m bulding_data \u001b[38;5;241m=\u001b[39m \u001b[43mos\u001b[49m\u001b[38;5;241;43m.\u001b[39;49m\u001b[43mpath\u001b[49m\u001b[38;5;241;43m.\u001b[39;49m\u001b[43mjoin\u001b[49m\u001b[43m(\u001b[49m\u001b[43m{\u001b[49m\u001b[43mfolder\u001b[49m\u001b[43m}\u001b[49m\u001b[43m,\u001b[49m\n\u001b[0;32m      2\u001b[0m \u001b[43m                 \u001b[49m\u001b[38;5;124;43m'\u001b[39;49m\u001b[38;5;124;43mgis_osm_buildings_a_free_1.shp\u001b[39;49m\u001b[38;5;124;43m'\u001b[39;49m\u001b[43m)\u001b[49m\n\u001b[0;32m      3\u001b[0m \u001b[38;5;28mprint\u001b[39m(bulding_data)\n\u001b[0;32m      4\u001b[0m con\u001b[38;5;241m.\u001b[39msql(\u001b[38;5;124m\"\u001b[39m\u001b[38;5;124mSELECT * FROM ST_Read(bulding_data)\u001b[39m\u001b[38;5;124m\"\u001b[39m)\n",
      "File \u001b[1;32m~\\AppData\\Local\\Programs\\Python\\Python39\\lib\\ntpath.py:78\u001b[0m, in \u001b[0;36mjoin\u001b[1;34m(path, *paths)\u001b[0m\n\u001b[0;32m     77\u001b[0m \u001b[38;5;28;01mdef\u001b[39;00m \u001b[38;5;21mjoin\u001b[39m(path, \u001b[38;5;241m*\u001b[39mpaths):\n\u001b[1;32m---> 78\u001b[0m     path \u001b[38;5;241m=\u001b[39m \u001b[43mos\u001b[49m\u001b[38;5;241;43m.\u001b[39;49m\u001b[43mfspath\u001b[49m\u001b[43m(\u001b[49m\u001b[43mpath\u001b[49m\u001b[43m)\u001b[49m\n\u001b[0;32m     79\u001b[0m     \u001b[38;5;28;01mif\u001b[39;00m \u001b[38;5;28misinstance\u001b[39m(path, \u001b[38;5;28mbytes\u001b[39m):\n\u001b[0;32m     80\u001b[0m         sep \u001b[38;5;241m=\u001b[39m \u001b[38;5;124mb\u001b[39m\u001b[38;5;124m'\u001b[39m\u001b[38;5;130;01m\\\\\u001b[39;00m\u001b[38;5;124m'\u001b[39m\n",
      "\u001b[1;31mTypeError\u001b[0m: expected str, bytes or os.PathLike object, not set"
     ]
    }
   ],
   "source": [
    "bulding_data = os.path.join({folder},\n",
    "                            'gis_osm_buildings_a_free_1.shp')\n",
    "print(bulding_data)\n",
    "con.sql(\"SELECT * FROM ST_Read(bulding_data)\")"
   ]
  },
  {
   "cell_type": "code",
   "execution_count": null,
   "metadata": {},
   "outputs": [],
   "source": [
    "%sql duckdb:///:memory:\n",
    "# %sql duckdb:///path/to/file.db"
   ]
  },
  {
   "cell_type": "code",
   "execution_count": null,
   "metadata": {},
   "outputs": [
    {
     "data": {
      "text/html": [
       "<div>\n",
       "<style scoped>\n",
       "    .dataframe tbody tr th:only-of-type {\n",
       "        vertical-align: middle;\n",
       "    }\n",
       "\n",
       "    .dataframe tbody tr th {\n",
       "        vertical-align: top;\n",
       "    }\n",
       "\n",
       "    .dataframe thead th {\n",
       "        text-align: right;\n",
       "    }\n",
       "</style>\n",
       "<table border=\"1\" class=\"dataframe\">\n",
       "  <thead>\n",
       "    <tr style=\"text-align: right;\">\n",
       "      <th></th>\n",
       "      <th>extension_name</th>\n",
       "      <th>loaded</th>\n",
       "      <th>installed</th>\n",
       "      <th>install_path</th>\n",
       "      <th>description</th>\n",
       "      <th>aliases</th>\n",
       "    </tr>\n",
       "  </thead>\n",
       "  <tbody>\n",
       "    <tr>\n",
       "      <th>0</th>\n",
       "      <td>arrow</td>\n",
       "      <td>False</td>\n",
       "      <td>False</td>\n",
       "      <td></td>\n",
       "      <td>A zero-copy data integration between Apache Ar...</td>\n",
       "      <td>[]</td>\n",
       "    </tr>\n",
       "    <tr>\n",
       "      <th>1</th>\n",
       "      <td>autocomplete</td>\n",
       "      <td>False</td>\n",
       "      <td>False</td>\n",
       "      <td></td>\n",
       "      <td>Adds support for autocomplete in the shell</td>\n",
       "      <td>[]</td>\n",
       "    </tr>\n",
       "    <tr>\n",
       "      <th>2</th>\n",
       "      <td>aws</td>\n",
       "      <td>False</td>\n",
       "      <td>False</td>\n",
       "      <td></td>\n",
       "      <td>Provides features that depend on the AWS SDK</td>\n",
       "      <td>[]</td>\n",
       "    </tr>\n",
       "    <tr>\n",
       "      <th>3</th>\n",
       "      <td>azure</td>\n",
       "      <td>False</td>\n",
       "      <td>False</td>\n",
       "      <td></td>\n",
       "      <td>Adds a filesystem abstraction for Azure blob s...</td>\n",
       "      <td>[]</td>\n",
       "    </tr>\n",
       "    <tr>\n",
       "      <th>4</th>\n",
       "      <td>excel</td>\n",
       "      <td>False</td>\n",
       "      <td>False</td>\n",
       "      <td></td>\n",
       "      <td>Adds support for Excel-like format strings</td>\n",
       "      <td>[]</td>\n",
       "    </tr>\n",
       "    <tr>\n",
       "      <th>5</th>\n",
       "      <td>fts</td>\n",
       "      <td>False</td>\n",
       "      <td>True</td>\n",
       "      <td>(BUILT-IN)</td>\n",
       "      <td>Adds support for Full-Text Search Indexes</td>\n",
       "      <td>[]</td>\n",
       "    </tr>\n",
       "    <tr>\n",
       "      <th>6</th>\n",
       "      <td>httpfs</td>\n",
       "      <td>False</td>\n",
       "      <td>False</td>\n",
       "      <td></td>\n",
       "      <td>Adds support for reading and writing files ove...</td>\n",
       "      <td>[http, https, s3]</td>\n",
       "    </tr>\n",
       "    <tr>\n",
       "      <th>7</th>\n",
       "      <td>iceberg</td>\n",
       "      <td>False</td>\n",
       "      <td>False</td>\n",
       "      <td></td>\n",
       "      <td>Adds support for Apache Iceberg</td>\n",
       "      <td>[]</td>\n",
       "    </tr>\n",
       "    <tr>\n",
       "      <th>8</th>\n",
       "      <td>icu</td>\n",
       "      <td>True</td>\n",
       "      <td>True</td>\n",
       "      <td>(BUILT-IN)</td>\n",
       "      <td>Adds support for time zones and collations usi...</td>\n",
       "      <td>[]</td>\n",
       "    </tr>\n",
       "    <tr>\n",
       "      <th>9</th>\n",
       "      <td>inet</td>\n",
       "      <td>False</td>\n",
       "      <td>False</td>\n",
       "      <td></td>\n",
       "      <td>Adds support for IP-related data types and fun...</td>\n",
       "      <td>[]</td>\n",
       "    </tr>\n",
       "    <tr>\n",
       "      <th>10</th>\n",
       "      <td>jemalloc</td>\n",
       "      <td>False</td>\n",
       "      <td>False</td>\n",
       "      <td></td>\n",
       "      <td>Overwrites system allocator with JEMalloc</td>\n",
       "      <td>[]</td>\n",
       "    </tr>\n",
       "    <tr>\n",
       "      <th>11</th>\n",
       "      <td>json</td>\n",
       "      <td>True</td>\n",
       "      <td>True</td>\n",
       "      <td>(BUILT-IN)</td>\n",
       "      <td>Adds support for JSON operations</td>\n",
       "      <td>[]</td>\n",
       "    </tr>\n",
       "    <tr>\n",
       "      <th>12</th>\n",
       "      <td>motherduck</td>\n",
       "      <td>False</td>\n",
       "      <td>False</td>\n",
       "      <td></td>\n",
       "      <td>Enables motherduck integration with the system</td>\n",
       "      <td>[md]</td>\n",
       "    </tr>\n",
       "    <tr>\n",
       "      <th>13</th>\n",
       "      <td>parquet</td>\n",
       "      <td>True</td>\n",
       "      <td>True</td>\n",
       "      <td>(BUILT-IN)</td>\n",
       "      <td>Adds support for reading and writing parquet f...</td>\n",
       "      <td>[]</td>\n",
       "    </tr>\n",
       "    <tr>\n",
       "      <th>14</th>\n",
       "      <td>postgres_scanner</td>\n",
       "      <td>False</td>\n",
       "      <td>False</td>\n",
       "      <td></td>\n",
       "      <td>Adds support for reading from a Postgres database</td>\n",
       "      <td>[postgres]</td>\n",
       "    </tr>\n",
       "    <tr>\n",
       "      <th>15</th>\n",
       "      <td>spatial</td>\n",
       "      <td>False</td>\n",
       "      <td>False</td>\n",
       "      <td></td>\n",
       "      <td>Geospatial extension that adds support for wor...</td>\n",
       "      <td>[]</td>\n",
       "    </tr>\n",
       "    <tr>\n",
       "      <th>16</th>\n",
       "      <td>sqlite_scanner</td>\n",
       "      <td>False</td>\n",
       "      <td>False</td>\n",
       "      <td></td>\n",
       "      <td>Adds support for reading SQLite database files</td>\n",
       "      <td>[sqlite, sqlite3]</td>\n",
       "    </tr>\n",
       "    <tr>\n",
       "      <th>17</th>\n",
       "      <td>substrait</td>\n",
       "      <td>False</td>\n",
       "      <td>False</td>\n",
       "      <td></td>\n",
       "      <td>Adds support for the Substrait integration</td>\n",
       "      <td>[]</td>\n",
       "    </tr>\n",
       "    <tr>\n",
       "      <th>18</th>\n",
       "      <td>tpcds</td>\n",
       "      <td>False</td>\n",
       "      <td>False</td>\n",
       "      <td></td>\n",
       "      <td>Adds TPC-DS data generation and query support</td>\n",
       "      <td>[]</td>\n",
       "    </tr>\n",
       "    <tr>\n",
       "      <th>19</th>\n",
       "      <td>tpch</td>\n",
       "      <td>True</td>\n",
       "      <td>True</td>\n",
       "      <td>(BUILT-IN)</td>\n",
       "      <td>Adds TPC-H data generation and query support</td>\n",
       "      <td>[]</td>\n",
       "    </tr>\n",
       "    <tr>\n",
       "      <th>20</th>\n",
       "      <td>visualizer</td>\n",
       "      <td>False</td>\n",
       "      <td>False</td>\n",
       "      <td></td>\n",
       "      <td>Creates an HTML-based visualization of the que...</td>\n",
       "      <td>[]</td>\n",
       "    </tr>\n",
       "  </tbody>\n",
       "</table>\n",
       "</div>"
      ],
      "text/plain": [
       "      extension_name  loaded  installed install_path  \\\n",
       "0              arrow   False      False                \n",
       "1       autocomplete   False      False                \n",
       "2                aws   False      False                \n",
       "3              azure   False      False                \n",
       "4              excel   False      False                \n",
       "5                fts   False       True   (BUILT-IN)   \n",
       "6             httpfs   False      False                \n",
       "7            iceberg   False      False                \n",
       "8                icu    True       True   (BUILT-IN)   \n",
       "9               inet   False      False                \n",
       "10          jemalloc   False      False                \n",
       "11              json    True       True   (BUILT-IN)   \n",
       "12        motherduck   False      False                \n",
       "13           parquet    True       True   (BUILT-IN)   \n",
       "14  postgres_scanner   False      False                \n",
       "15           spatial   False      False                \n",
       "16    sqlite_scanner   False      False                \n",
       "17         substrait   False      False                \n",
       "18             tpcds   False      False                \n",
       "19              tpch    True       True   (BUILT-IN)   \n",
       "20        visualizer   False      False                \n",
       "\n",
       "                                          description            aliases  \n",
       "0   A zero-copy data integration between Apache Ar...                 []  \n",
       "1          Adds support for autocomplete in the shell                 []  \n",
       "2        Provides features that depend on the AWS SDK                 []  \n",
       "3   Adds a filesystem abstraction for Azure blob s...                 []  \n",
       "4          Adds support for Excel-like format strings                 []  \n",
       "5           Adds support for Full-Text Search Indexes                 []  \n",
       "6   Adds support for reading and writing files ove...  [http, https, s3]  \n",
       "7                     Adds support for Apache Iceberg                 []  \n",
       "8   Adds support for time zones and collations usi...                 []  \n",
       "9   Adds support for IP-related data types and fun...                 []  \n",
       "10          Overwrites system allocator with JEMalloc                 []  \n",
       "11                   Adds support for JSON operations                 []  \n",
       "12     Enables motherduck integration with the system               [md]  \n",
       "13  Adds support for reading and writing parquet f...                 []  \n",
       "14  Adds support for reading from a Postgres database         [postgres]  \n",
       "15  Geospatial extension that adds support for wor...                 []  \n",
       "16     Adds support for reading SQLite database files  [sqlite, sqlite3]  \n",
       "17         Adds support for the Substrait integration                 []  \n",
       "18      Adds TPC-DS data generation and query support                 []  \n",
       "19       Adds TPC-H data generation and query support                 []  \n",
       "20  Creates an HTML-based visualization of the que...                 []  "
      ]
     },
     "execution_count": 7,
     "metadata": {},
     "output_type": "execute_result"
    }
   ],
   "source": [
    "%%sql\n",
    "\n",
    "SELECT * FROM duckdb_extensions();"
   ]
  },
  {
   "cell_type": "code",
   "execution_count": null,
   "metadata": {},
   "outputs": [],
   "source": []
  }
 ],
 "metadata": {
  "kernelspec": {
   "display_name": "duckdb-gXdsku-j",
   "language": "python",
   "name": "python3"
  },
  "language_info": {
   "codemirror_mode": {
    "name": "ipython",
    "version": 3
   },
   "file_extension": ".py",
   "mimetype": "text/x-python",
   "name": "python",
   "nbconvert_exporter": "python",
   "pygments_lexer": "ipython3",
   "version": "3.9.7"
  }
 },
 "nbformat": 4,
 "nbformat_minor": 2
}
