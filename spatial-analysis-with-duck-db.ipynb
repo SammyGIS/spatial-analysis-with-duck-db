{
 "cells": [
  {
   "cell_type": "markdown",
   "metadata": {},
   "source": [
    "### Using duckdb with Python API"
   ]
  },
  {
   "cell_type": "code",
   "execution_count": 6,
   "metadata": {},
   "outputs": [
    {
     "data": {
      "text/html": [
       "<img src=\"https://duckdb.org/images/logo-dl/DuckDB_Logo.png\"/>"
      ],
      "text/plain": [
       "<IPython.core.display.Image object>"
      ]
     },
     "metadata": {},
     "output_type": "display_data"
    }
   ],
   "source": [
    "from IPython.display import display, Image\n",
    "\n",
    "# Replace 'your_image_url' with the actual URL of the image\n",
    "image_url = 'https://duckdb.org/images/logo-dl/DuckDB_Logo.png'\n",
    "\n",
    "# Display the image in the notebook\n",
    "display(Image(url=image_url))"
   ]
  },
  {
   "cell_type": "markdown",
   "metadata": {},
   "source": [
    "DuckDB is a database management system, and it is useful in the geospatial domain for efficiently storing and retrieving location-based data.\n",
    "\n",
    "In simpler terms, DuckDB helps organize and manage information related to locations, like maps or geographic data. It's handy for tasks such as tracking objects, analyzing spatial patterns, or finding nearby points on a map. DuckDB makes working with geospatial data in computer programs easier and more efficient.\n",
    "\n",
    "DuckDB stands out in the geospatial domain because it's faster, lightweight, and often more efficient compared to other geospatial packages.\n",
    "\n",
    "* Speed: DuckDB is designed to be fast, allowing for quick processing and retrieval of geospatial data. Its optimized architecture enables speedy execution of queries and analyses, making it a favorable choice for applications that require real-time or near-real-time processing of location-based information.\n",
    "\n",
    "* Lightweight: DuckDB is a lightweight database, meaning it doesn't require significant computational resources. This makes it suitable for use in various environments, including resource-constrained devices or systems where efficient resource utilization is crucial. The lightweight nature of DuckDB can contribute to faster deployment and lower operational costs.\n",
    "\n",
    "* Efficiency: DuckDB is built with efficiency in mind, providing a balance between performance and resource utilization. Its design allows for quick data retrieval and processing, making it a reliable option for applications dealing with large geospatial datasets. The efficiency of DuckDB can result in improved overall system performance.\n",
    "\n",
    "* Integration: DuckDB is designed to integrate seamlessly with programming languages commonly used in data science and geospatial analysis, such as Python. This makes it easier for developers and data scientists to incorporate DuckDB into their workflows, benefiting from its speed and efficiency while leveraging familiar programming tools."
   ]
  },
  {
   "cell_type": "markdown",
   "metadata": {},
   "source": [
    "### Objective of this task"
   ]
  },
  {
   "cell_type": "markdown",
   "metadata": {},
   "source": [
    "* DucDB Exploration:\n",
    "   - Investigate DucDB features for spatial analysis.\n",
    "   - Examine geographic data handling tools.\n",
    "*OSM Integration:\n",
    "   - Assess DucDB's OSM data integration capabilities.\n",
    "   - Verify compatibility and interoperability.\n",
    "* Spatial Analysis Techniques:\n",
    "   - Identify DucDB's spatial analysis methods.\n",
    "   - Evaluate advanced analysis using OSM data.\n",
    "* Nigeria-specific Application:\n",
    "   - Tailor exploration to Nigeria's geography.\n",
    "   - Examine DucDB's effectiveness with OSM data in Nigeria.\n",
    "* Data Visualization:\n",
    "   - Assess DucDB's geographic data visualization.\n",
    "   - Explore visualization options for Nigerian geography."
   ]
  },
  {
   "cell_type": "code",
   "execution_count": null,
   "metadata": {},
   "outputs": [],
   "source": [
    "%pip install duckdb leafmap"
   ]
  },
  {
   "cell_type": "markdown",
   "metadata": {},
   "source": [
    "import the neccessary libraries"
   ]
  },
  {
   "cell_type": "code",
   "execution_count": null,
   "metadata": {},
   "outputs": [],
   "source": [
    "#import the libaries\n",
    "import duckdb\n",
    "import pandas as  pd\n",
    "import leafmap\n",
    "import os\n",
    "import pyogrio\n",
    "\n",
    "%load_ext sql"
   ]
  },
  {
   "cell_type": "code",
   "execution_count": null,
   "metadata": {},
   "outputs": [],
   "source": []
  },
  {
   "cell_type": "code",
   "execution_count": null,
   "metadata": {},
   "outputs": [],
   "source": [
    "%config SqlMagic.autopandas = True\n",
    "%config SqlMagic.feedback = False\n",
    "%config SqlMagic.displaycon = False"
   ]
  },
  {
   "cell_type": "markdown",
   "metadata": {},
   "source": [
    "To download the data used in this analysis"
   ]
  },
  {
   "cell_type": "code",
   "execution_count": null,
   "metadata": {},
   "outputs": [],
   "source": [
    "# url = r'https://download.geofabrik.de/africa/nigeria-latest-free.shp.zip'\n",
    "# leafmap.download_file(url,unzip=True)"
   ]
  },
  {
   "cell_type": "code",
   "execution_count": null,
   "metadata": {},
   "outputs": [],
   "source": [
    "# load the data in the osm nigeria shapefile folder\n",
    "home_folder = 'data'\n",
    "nigeria_folder = 'nigeria-latest-free_shp'\n",
    "data_folder = os.path.join(home_folder, nigeria_folder)\n",
    "data = os.listdir(data_folder)\n",
    "for item in data:\n",
    "    if item.endswith('.shp'):\n",
    "        print(item)"
   ]
  },
  {
   "cell_type": "markdown",
   "metadata": {},
   "source": [
    "Connecting to Duckdb"
   ]
  },
  {
   "cell_type": "markdown",
   "metadata": {},
   "source": [
    "Create a db for nigeria where all the data will be store before analysis"
   ]
  },
  {
   "cell_type": "code",
   "execution_count": null,
   "metadata": {},
   "outputs": [],
   "source": [
    "con = duckdb.connect(\"nigeria.db\")"
   ]
  },
  {
   "cell_type": "markdown",
   "metadata": {},
   "source": [
    "Install and load spatial extension"
   ]
  },
  {
   "cell_type": "code",
   "execution_count": null,
   "metadata": {},
   "outputs": [],
   "source": [
    "con.install_extension('spatial')\n",
    "con.load_extension('spatial')"
   ]
  },
  {
   "cell_type": "code",
   "execution_count": null,
   "metadata": {},
   "outputs": [],
   "source": [
    "con.sql(\"SHOW TABLES\")"
   ]
  },
  {
   "cell_type": "code",
   "execution_count": null,
   "metadata": {},
   "outputs": [],
   "source": [
    "osm_building  = 'gis_osm_buildings_a_free_1.shp'\n",
    "budiling_data = os.path.join(home_folder, nigeria_folder, osm_building)\n",
    "# get the first 10 building data\n",
    "con.sql(f\"SELECT * FROM ST_Read('{bulding_data}') LIMIT 10\")"
   ]
  },
  {
   "cell_type": "markdown",
   "metadata": {},
   "source": [
    "Count the total number of building mapped in nigeria"
   ]
  },
  {
   "cell_type": "code",
   "execution_count": null,
   "metadata": {},
   "outputs": [],
   "source": [
    "%%timeit\n",
    "osm_building  = 'gis_osm_buildings_a_free_1.shp'\n",
    "budiling_data = os.path.join(home_folder, nigeria_folder, osm_building)\n",
    "# get the total numbers of building mapped on osm in Nigeria\n",
    "query = f\"SELECT COUNT(*) FROM ST_Read('{bulding_data}') LIMIT 10\"\n",
    "con.sql(query)"
   ]
  },
  {
   "cell_type": "markdown",
   "metadata": {},
   "source": [
    "use leafmap to visualize the nigeria buidling shapefile"
   ]
  },
  {
   "cell_type": "code",
   "execution_count": null,
   "metadata": {},
   "outputs": [],
   "source": []
  },
  {
   "cell_type": "markdown",
   "metadata": {},
   "source": [
    "Load data into the databse using sqalchemy method\n",
    "* read the data using pyogrio, the reason why pyogrio is used to load this data instead of the commonly known geopandas is because of the speed, it is 18x faster than geopandas.\n",
    "* Use a for loop to load all the data in the nigeria shapefile into the db that was connected to i.e \"nigeria.db\""
   ]
  },
  {
   "cell_type": "code",
   "execution_count": null,
   "metadata": {},
   "outputs": [],
   "source": [
    "%%timeit\n",
    "# lets try it with one and see then later we can use a loop to load the rest of the data into the database\n",
    "osm_building  = 'gis_osm_buildings_a_free_1.shp'\n",
    "budiling_data = os.path.join(home_folder, nigeria_folder, osm_building)2\n",
    "# read the data into a dataframe\n",
    "buidling_gdf = pyogrio.read_dataframe(building_data)\n",
    "\n",
    "# pass the data into the database\n",
    "# create a new table from the contents of a DataFrame\n",
    "query = f\"CREATE TABLE osm_nigeria_builing AS SELECT * FROM ST_Read('{bulding_gdf}')\"\n",
    "con.execute(query)\n",
    "\n",
    "# if the tbale already exit all will need to do is to insert into the table\n",
    "# insert into an existing table from the contents of a DataFrame\n",
    "#con.execute(\"INSERT INTO existing_table SELECT * FROM loaded_Dataframe\")"
   ]
  },
  {
   "cell_type": "markdown",
   "metadata": {},
   "source": [
    "Show our table again to know if the data is already ingested int ot the table"
   ]
  },
  {
   "cell_type": "code",
   "execution_count": null,
   "metadata": {},
   "outputs": [],
   "source": [
    "con.sql(\"SHOW TABLES\")"
   ]
  },
  {
   "cell_type": "markdown",
   "metadata": {},
   "source": [
    "if that works for one, then we will pass the bulk table (data) into the db"
   ]
  },
  {
   "cell_type": "code",
   "execution_count": null,
   "metadata": {},
   "outputs": [],
   "source": []
  },
  {
   "cell_type": "code",
   "execution_count": null,
   "metadata": {},
   "outputs": [],
   "source": [
    "%sql duckdb:///:memory:\n",
    "# %sql duckdb:///path/to/file.db"
   ]
  },
  {
   "cell_type": "code",
   "execution_count": null,
   "metadata": {},
   "outputs": [],
   "source": [
    "%%sql\n",
    "\n",
    "SELECT * FROM duckdb_extensions();"
   ]
  },
  {
   "cell_type": "markdown",
   "metadata": {},
   "source": [
    "## References "
   ]
  },
  {
   "cell_type": "markdown",
   "metadata": {},
   "source": [
    "* https://duckdb.org/docs/api/python/data_ingestion"
   ]
  },
  {
   "cell_type": "code",
   "execution_count": null,
   "metadata": {},
   "outputs": [],
   "source": []
  }
 ],
 "metadata": {
  "kernelspec": {
   "display_name": "Python 3 (ipykernel)",
   "language": "python",
   "name": "python3"
  },
  "language_info": {
   "codemirror_mode": {
    "name": "ipython",
    "version": 3
   },
   "file_extension": ".py",
   "mimetype": "text/x-python",
   "name": "python",
   "nbconvert_exporter": "python",
   "pygments_lexer": "ipython3",
   "version": "3.9.16"
  }
 },
 "nbformat": 4,
 "nbformat_minor": 2
}
