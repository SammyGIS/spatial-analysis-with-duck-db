{
 "cells": [
  {
   "cell_type": "markdown",
   "metadata": {},
   "source": [
    "### Using duckdb with Python API"
   ]
  },
  {
   "cell_type": "code",
   "execution_count": 2,
   "metadata": {},
   "outputs": [
    {
     "data": {
      "text/html": [
       "<img src=\"https://duckdb.org/images/logo-dl/DuckDB_Logo.png\"/>"
      ],
      "text/plain": [
       "<IPython.core.display.Image object>"
      ]
     },
     "metadata": {},
     "output_type": "display_data"
    }
   ],
   "source": [
    "from IPython.display import display, Image\n",
    "\n",
    "# Replace 'your_image_url' with the actual URL of the image\n",
    "image_url = 'https://duckdb.org/images/logo-dl/DuckDB_Logo.png'\n",
    "\n",
    "# Display the image in the notebook\n",
    "display(Image(url=image_url))"
   ]
  },
  {
   "cell_type": "markdown",
   "metadata": {},
   "source": [
    "DuckDB is a database management system, and it is useful in the geospatial domain for efficiently storing and retrieving location-based data.\n",
    "\n",
    "In simpler terms, DuckDB helps organize and manage information related to locations, like maps or geographic data. It's handy for tasks such as tracking objects, analyzing spatial patterns, or finding nearby points on a map. DuckDB makes working with geospatial data in computer programs easier and more efficient.\n",
    "\n",
    "DuckDB stands out in the geospatial domain because it's faster, lightweight, and often more efficient compared to other geospatial packages.\n",
    "\n",
    "* Speed: DuckDB is designed to be fast, allowing for quick processing and retrieval of geospatial data. Its optimized architecture enables speedy execution of queries and analyses, making it a favorable choice for applications that require real-time or near-real-time processing of location-based information.\n",
    "\n",
    "* Lightweight: DuckDB is a lightweight database, meaning it doesn't require significant computational resources. This makes it suitable for use in various environments, including resource-constrained devices or systems where efficient resource utilization is crucial. The lightweight nature of DuckDB can contribute to faster deployment and lower operational costs.\n",
    "\n",
    "* Efficiency: DuckDB is built with efficiency in mind, providing a balance between performance and resource utilization. Its design allows for quick data retrieval and processing, making it a reliable option for applications dealing with large geospatial datasets. The efficiency of DuckDB can result in improved overall system performance.\n",
    "\n",
    "* Integration: DuckDB is designed to integrate seamlessly with programming languages commonly used in data science and geospatial analysis, such as Python. This makes it easier for developers and data scientists to incorporate DuckDB into their workflows, benefiting from its speed and efficiency while leveraging familiar programming tools."
   ]
  },
  {
   "cell_type": "markdown",
   "metadata": {},
   "source": [
    "### Objective of this task"
   ]
  },
  {
   "cell_type": "markdown",
   "metadata": {},
   "source": [
    "* DucDB Exploration:\n",
    "   - Creating database in duckdb\n",
    "   - Loading table into the database\n",
    "   - Loading bulk data inot the database\n",
    "* Spatial Analysis Techniques:\n",
    "   - Performining Buffer with duckdb\n",
    "   - Making spatial Selection with duckdb\n",
    "* Data Visualization:\n",
    "   - Using leafmap for Data Visualization\n",
    "   - Exploring geopandas for data visualization trying the gpd.explore() function."
   ]
  },
  {
   "cell_type": "markdown",
   "metadata": {},
   "source": [
    "installing the required package,uisng pip pip inside a notebook is not a standard pratcice it is better you installed all the required libary in a virtual env, start the notebook within the environement to run your analysis. Incase you want to install the libary within the notebook you can use **%pip install** and the name of the libary you want to install"
   ]
  },
  {
   "cell_type": "code",
   "execution_count": 16,
   "metadata": {},
   "outputs": [],
   "source": [
    "# %pip install duckdb leafmap"
   ]
  },
  {
   "cell_type": "markdown",
   "metadata": {},
   "source": [
    "import the neccessary libraries"
   ]
  },
  {
   "cell_type": "code",
   "execution_count": 4,
   "metadata": {},
   "outputs": [],
   "source": [
    "#import the libaries\n",
    "import duckdb\n",
    "import pandas as  pd\n",
    "import leafmap\n",
    "import os\n",
    "import pyogrio\n",
    "import geopandas as gpd"
   ]
  },
  {
   "cell_type": "markdown",
   "metadata": {},
   "source": [
    "Import jupysql Jupyter extension to create SQL cells\n",
    "\n",
    "This enables you to write sql query in your notebook, you can use **%sql** when writeing just a line of sql or **%%sql** when writing multiple line of sql in your notebook cell"
   ]
  },
  {
   "cell_type": "code",
   "execution_count": 17,
   "metadata": {},
   "outputs": [
    {
     "name": "stdout",
     "output_type": "stream",
     "text": [
      "The sql extension is already loaded. To reload it, use:\n",
      "  %reload_ext sql\n"
     ]
    }
   ],
   "source": [
    "%load_ext sql"
   ]
  },
  {
   "cell_type": "code",
   "execution_count": 6,
   "metadata": {},
   "outputs": [],
   "source": [
    "%config SqlMagic.autopandas = True\n",
    "%config SqlMagic.feedback = False\n",
    "%config SqlMagic.displaycon = False"
   ]
  },
  {
   "cell_type": "markdown",
   "metadata": {},
   "source": [
    "To download the data used in this analysis"
   ]
  },
  {
   "cell_type": "code",
   "execution_count": 7,
   "metadata": {},
   "outputs": [],
   "source": [
    "# url = r'https://download.geofabrik.de/africa/nigeria-latest-free.shp.zip'\n",
    "# leafmap.download_file(url,unzip=True)"
   ]
  },
  {
   "cell_type": "markdown",
   "metadata": {},
   "source": [
    "set folder path"
   ]
  },
  {
   "cell_type": "code",
   "execution_count": null,
   "metadata": {},
   "outputs": [],
   "source": [
    "nigeria_osm = 'nigeria-latest-free_shp'\n",
    "nigeria_admin = 'NGA_adm'\n",
    "data_folder = 'data'"
   ]
  },
  {
   "cell_type": "code",
   "execution_count": 23,
   "metadata": {},
   "outputs": [
    {
     "ename": "FileNotFoundError",
     "evalue": "[WinError 3] The system cannot find the path specified: 'data\\\\NGA_adm\\\\nigeria-latest-free_shp'",
     "output_type": "error",
     "traceback": [
      "\u001b[1;31m---------------------------------------------------------------------------\u001b[0m",
      "\u001b[1;31mFileNotFoundError\u001b[0m                         Traceback (most recent call last)",
      "\u001b[1;32m~\\AppData\\Local\\Temp\\ipykernel_17936\\433112438.py\u001b[0m in \u001b[0;36m<cell line: 3>\u001b[1;34m()\u001b[0m\n\u001b[0;32m      1\u001b[0m \u001b[1;31m# load the data in the osm nigeria shapefile folder\u001b[0m\u001b[1;33m\u001b[0m\u001b[1;33m\u001b[0m\u001b[0m\n\u001b[0;32m      2\u001b[0m \u001b[0mdata_folder\u001b[0m \u001b[1;33m=\u001b[0m \u001b[0mos\u001b[0m\u001b[1;33m.\u001b[0m\u001b[0mpath\u001b[0m\u001b[1;33m.\u001b[0m\u001b[0mjoin\u001b[0m\u001b[1;33m(\u001b[0m\u001b[0mdata_folder\u001b[0m\u001b[1;33m,\u001b[0m \u001b[0mnigeria_folder\u001b[0m\u001b[1;33m)\u001b[0m\u001b[1;33m\u001b[0m\u001b[1;33m\u001b[0m\u001b[0m\n\u001b[1;32m----> 3\u001b[1;33m \u001b[0mdata\u001b[0m \u001b[1;33m=\u001b[0m \u001b[0mos\u001b[0m\u001b[1;33m.\u001b[0m\u001b[0mlistdir\u001b[0m\u001b[1;33m(\u001b[0m\u001b[0mdata_folder\u001b[0m\u001b[1;33m)\u001b[0m\u001b[1;33m\u001b[0m\u001b[1;33m\u001b[0m\u001b[0m\n\u001b[0m\u001b[0;32m      4\u001b[0m \u001b[1;32mfor\u001b[0m \u001b[0mitem\u001b[0m \u001b[1;32min\u001b[0m \u001b[0mdata\u001b[0m\u001b[1;33m:\u001b[0m\u001b[1;33m\u001b[0m\u001b[1;33m\u001b[0m\u001b[0m\n\u001b[0;32m      5\u001b[0m     \u001b[1;32mif\u001b[0m \u001b[0mitem\u001b[0m\u001b[1;33m.\u001b[0m\u001b[0mendswith\u001b[0m\u001b[1;33m(\u001b[0m\u001b[1;34m'.shp'\u001b[0m\u001b[1;33m)\u001b[0m\u001b[1;33m:\u001b[0m\u001b[1;33m\u001b[0m\u001b[1;33m\u001b[0m\u001b[0m\n",
      "\u001b[1;31mFileNotFoundError\u001b[0m: [WinError 3] The system cannot find the path specified: 'data\\\\NGA_adm\\\\nigeria-latest-free_shp'"
     ]
    }
   ],
   "source": [
    "# load the data in the osm nigeria shapefile folder\n",
    "data_folder = os.path.join(data_folder, nigeria_osm)\n",
    "data = os.listdir(data_folder)\n",
    "for item in data:\n",
    "    if item.endswith('.shp'):\n",
    "        print(item)"
   ]
  },
  {
   "cell_type": "markdown",
   "metadata": {},
   "source": [
    "Check the nigeria admin shapeifle that was added to data"
   ]
  },
  {
   "cell_type": "code",
   "execution_count": 9,
   "metadata": {},
   "outputs": [
    {
     "name": "stdout",
     "output_type": "stream",
     "text": [
      "NGA_adm0.shp\n",
      "NGA_adm1.shp\n",
      "NGA_adm2.shp\n"
     ]
    }
   ],
   "source": [
    "# load the data in the osm nigeria shapefile folder\n",
    "data_folder = os.path.join(data_folder,nigeria_admin)\n",
    "data = os.listdir(data_folder)\n",
    "for item in data:\n",
    "    if item.endswith('.shp'):\n",
    "        print(item)"
   ]
  },
  {
   "cell_type": "markdown",
   "metadata": {},
   "source": [
    "Connecting to Duckdb"
   ]
  },
  {
   "cell_type": "markdown",
   "metadata": {},
   "source": [
    "Create a db for nigeria where all the data will be store before analysis"
   ]
  },
  {
   "cell_type": "code",
   "execution_count": 10,
   "metadata": {},
   "outputs": [],
   "source": [
    "con = duckdb.connect(\"nigeria.db\")"
   ]
  },
  {
   "cell_type": "markdown",
   "metadata": {},
   "source": [
    "Install and load spatial extension"
   ]
  },
  {
   "cell_type": "code",
   "execution_count": 11,
   "metadata": {},
   "outputs": [],
   "source": [
    "con.install_extension('spatial')\n",
    "con.load_extension('spatial')"
   ]
  },
  {
   "cell_type": "markdown",
   "metadata": {},
   "source": [
    "When you first run con.sql(\"SHOW TABLE\") it should show you an empty database without any table present becuase we just created the database untill you create or write a table to the database, it will be empty."
   ]
  },
  {
   "cell_type": "code",
   "execution_count": 12,
   "metadata": {},
   "outputs": [
    {
     "data": {
      "text/plain": [
       "┌───────────────┐\n",
       "│     name      │\n",
       "│    varchar    │\n",
       "├───────────────┤\n",
       "│ nigeria_state │\n",
       "└───────────────┘"
      ]
     },
     "execution_count": 12,
     "metadata": {},
     "output_type": "execute_result"
    }
   ],
   "source": [
    "con.sql(\"SHOW TABLES\")"
   ]
  },
  {
   "cell_type": "markdown",
   "metadata": {},
   "source": [
    "Load the Nigeria Admin shapefile to the database\n",
    "\n",
    "By default DuckDB operates on an in-memory database. That means that any tables that are created are not persisted to disk. Using the .connect method a connection can be made to a persistent database. Any data written to that connection will be persisted, and can be reloaded by re-connecting to the same file."
   ]
  },
  {
   "cell_type": "code",
   "execution_count": 13,
   "metadata": {},
   "outputs": [
    {
     "name": "stdout",
     "output_type": "stream",
     "text": [
      "174 ms ± 29.4 ms per loop (mean ± std. dev. of 7 runs, 1 loop each)\n"
     ]
    }
   ],
   "source": [
    "%%timeit\n",
    "# lets try it with one and see then later we can use a loop to load the rest of the data into the database\n",
    "nga_admin1  = 'NGA_adm1.shp'\n",
    "nga_state_data = os.path.join(data_folder,nigeria_admin, nga_admin1)\n",
    "# read the data into a dataframe\n",
    "# nga_state_gdf = gpd.read_file(nga_state_data)\n",
    "# print(nga_state_gdf)\n",
    "\n",
    "# pass the data into the database\n",
    "# create a new table from the contents of a DataFrame\n",
    "query = f\"DROP TABLE IF EXISTS nigeria_state; \\\n",
    "        CREATE TABLE nigeria_state AS SELECT * FROM  ST_Read('{nga_state_data}')\"\n",
    "con.execute(query)\n",
    "\n",
    "# if the table already exit all we need to do is to insert data into the table\n",
    "# insert into an existing table from the contents of a DataFrame\n",
    "#con.execute(\"INSERT INTO existing_table SELECT * FROM loaded_Dataframe\")"
   ]
  },
  {
   "cell_type": "code",
   "execution_count": 14,
   "metadata": {},
   "outputs": [
    {
     "data": {
      "text/plain": [
       "┌───────────────┐\n",
       "│     name      │\n",
       "│    varchar    │\n",
       "├───────────────┤\n",
       "│ nigeria_state │\n",
       "└───────────────┘"
      ]
     },
     "execution_count": 14,
     "metadata": {},
     "output_type": "execute_result"
    }
   ],
   "source": [
    "con.sql(\"SHOW TABLES\")"
   ]
  },
  {
   "cell_type": "markdown",
   "metadata": {},
   "source": [
    "Lets query the data using the State name"
   ]
  },
  {
   "cell_type": "code",
   "execution_count": 42,
   "metadata": {},
   "outputs": [
    {
     "name": "stdout",
     "output_type": "stream",
     "text": [
      "┌───────┬─────────┬─────────┬───────┬─────────────┬───┬────────────┬───────────┬───────────┬──────────────────────┐\n",
      "│ ID_0  │   ISO   │ NAME_0  │ ID_1  │   NAME_1    │ … │ ENGTYPE_1  │ NL_NAME_1 │ VARNAME_1 │         geom         │\n",
      "│ int64 │ varchar │ varchar │ int64 │   varchar   │   │  varchar   │  varchar  │  varchar  │       geometry       │\n",
      "├───────┼─────────┼─────────┼───────┼─────────────┼───┼────────────┼───────────┼───────────┼──────────────────────┤\n",
      "│   163 │ NGA     │ Nigeria │     1 │ Abia        │ … │ State      │ NULL      │ NULL      │ POLYGON ((7.508012…  │\n",
      "│   163 │ NGA     │ Nigeria │     2 │ Adamawa     │ … │ State      │ NULL      │ NULL      │ POLYGON ((13.72386…  │\n",
      "│   163 │ NGA     │ Nigeria │     3 │ Akwa Ibom   │ … │ State      │ NULL      │ NULL      │ MULTIPOLYGON (((7.…  │\n",
      "│   163 │ NGA     │ Nigeria │     4 │ Anambra     │ … │ State      │ NULL      │ NULL      │ POLYGON ((6.915181…  │\n",
      "│   163 │ NGA     │ Nigeria │     5 │ Bauchi      │ … │ State      │ NULL      │ NULL      │ POLYGON ((10.73444…  │\n",
      "│   163 │ NGA     │ Nigeria │     6 │ Bayelsa     │ … │ State      │ NULL      │ NULL      │ MULTIPOLYGON (((6.…  │\n",
      "│   163 │ NGA     │ Nigeria │     7 │ Benue       │ … │ State      │ NULL      │ NULL      │ POLYGON ((8.869718…  │\n",
      "│   163 │ NGA     │ Nigeria │     8 │ Borno       │ … │ State      │ NULL      │ NULL      │ POLYGON ((13.36041…  │\n",
      "│   163 │ NGA     │ Nigeria │     9 │ Cross River │ … │ State      │ NULL      │ NULL      │ POLYGON ((8.981203…  │\n",
      "│   163 │ NGA     │ Nigeria │    10 │ Delta       │ … │ State      │ NULL      │ NULL      │ MULTIPOLYGON (((5.…  │\n",
      "│    ·  │  ·      │    ·    │     · │  ·          │ · │   ·        │  ·        │  ·        │          ·           │\n",
      "│    ·  │  ·      │    ·    │     · │  ·          │ · │   ·        │  ·        │  ·        │          ·           │\n",
      "│    ·  │  ·      │    ·    │     · │  ·          │ · │   ·        │  ·        │  ·        │          ·           │\n",
      "│   163 │ NGA     │ Nigeria │    29 │ Ondo        │ … │ State      │ NULL      │ NULL      │ MULTIPOLYGON (((4.…  │\n",
      "│   163 │ NGA     │ Nigeria │    30 │ Osun        │ … │ State      │ NULL      │ NULL      │ POLYGON ((4.956563…  │\n",
      "│   163 │ NGA     │ Nigeria │    31 │ Oyo         │ … │ State      │ NULL      │ NULL      │ POLYGON ((3.852123…  │\n",
      "│   163 │ NGA     │ Nigeria │    32 │ Plateau     │ … │ State      │ NULL      │ NULL      │ POLYGON ((8.960503…  │\n",
      "│   163 │ NGA     │ Nigeria │    33 │ Rivers      │ … │ State      │ NULL      │ NULL      │ MULTIPOLYGON (((6.…  │\n",
      "│   163 │ NGA     │ Nigeria │    34 │ Sokoto      │ … │ State      │ NULL      │ NULL      │ POLYGON ((5.545146…  │\n",
      "│   163 │ NGA     │ Nigeria │    35 │ Taraba      │ … │ State      │ NULL      │ NULL      │ POLYGON ((11.00425…  │\n",
      "│   163 │ NGA     │ Nigeria │    36 │ Water body  │ … │ Water body │ NULL      │ NULL      │ POLYGON ((13.79507…  │\n",
      "│   163 │ NGA     │ Nigeria │    37 │ Yobe        │ … │ State      │ NULL      │ NULL      │ POLYGON ((11.16638…  │\n",
      "│   163 │ NGA     │ Nigeria │    38 │ Zamfara     │ … │ State      │ NULL      │ NULL      │ POLYGON ((6.840025…  │\n",
      "├───────┴─────────┴─────────┴───────┴─────────────┴───┴────────────┴───────────┴───────────┴──────────────────────┤\n",
      "│ 38 rows (20 shown)                                                                         10 columns (9 shown) │\n",
      "└─────────────────────────────────────────────────────────────────────────────────────────────────────────────────┘\n",
      "\n"
     ]
    }
   ],
   "source": [
    "# query the table\n",
    "con.table('nigeria_state').show()"
   ]
  },
  {
   "cell_type": "code",
   "execution_count": 51,
   "metadata": {},
   "outputs": [
    {
     "data": {
      "text/html": [
       "<div>\n",
       "<style scoped>\n",
       "    .dataframe tbody tr th:only-of-type {\n",
       "        vertical-align: middle;\n",
       "    }\n",
       "\n",
       "    .dataframe tbody tr th {\n",
       "        vertical-align: top;\n",
       "    }\n",
       "\n",
       "    .dataframe thead th {\n",
       "        text-align: right;\n",
       "    }\n",
       "</style>\n",
       "<table border=\"1\" class=\"dataframe\">\n",
       "  <thead>\n",
       "    <tr style=\"text-align: right;\">\n",
       "      <th></th>\n",
       "      <th>ID_0</th>\n",
       "      <th>ISO</th>\n",
       "      <th>NAME_0</th>\n",
       "      <th>ID_1</th>\n",
       "      <th>NAME_1</th>\n",
       "      <th>TYPE_1</th>\n",
       "      <th>ENGTYPE_1</th>\n",
       "      <th>NL_NAME_1</th>\n",
       "      <th>VARNAME_1</th>\n",
       "      <th>geomery</th>\n",
       "    </tr>\n",
       "  </thead>\n",
       "  <tbody>\n",
       "    <tr>\n",
       "      <th>0</th>\n",
       "      <td>163</td>\n",
       "      <td>NGA</td>\n",
       "      <td>Nigeria</td>\n",
       "      <td>1</td>\n",
       "      <td>Abia</td>\n",
       "      <td>State</td>\n",
       "      <td>State</td>\n",
       "      <td>None</td>\n",
       "      <td>None</td>\n",
       "      <td>POLYGON ((7.508012771606559 6.009689807891846,...</td>\n",
       "    </tr>\n",
       "    <tr>\n",
       "      <th>1</th>\n",
       "      <td>163</td>\n",
       "      <td>NGA</td>\n",
       "      <td>Nigeria</td>\n",
       "      <td>2</td>\n",
       "      <td>Adamawa</td>\n",
       "      <td>State</td>\n",
       "      <td>State</td>\n",
       "      <td>None</td>\n",
       "      <td>None</td>\n",
       "      <td>POLYGON ((13.723860740661621 10.91172790527349...</td>\n",
       "    </tr>\n",
       "    <tr>\n",
       "      <th>2</th>\n",
       "      <td>163</td>\n",
       "      <td>NGA</td>\n",
       "      <td>Nigeria</td>\n",
       "      <td>3</td>\n",
       "      <td>Akwa Ibom</td>\n",
       "      <td>State</td>\n",
       "      <td>State</td>\n",
       "      <td>None</td>\n",
       "      <td>None</td>\n",
       "      <td>MULTIPOLYGON (((7.610694885253963 4.4729170799...</td>\n",
       "    </tr>\n",
       "    <tr>\n",
       "      <th>3</th>\n",
       "      <td>163</td>\n",
       "      <td>NGA</td>\n",
       "      <td>Nigeria</td>\n",
       "      <td>4</td>\n",
       "      <td>Anambra</td>\n",
       "      <td>State</td>\n",
       "      <td>State</td>\n",
       "      <td>None</td>\n",
       "      <td>None</td>\n",
       "      <td>POLYGON ((6.915181159973201 6.711037158966064,...</td>\n",
       "    </tr>\n",
       "    <tr>\n",
       "      <th>4</th>\n",
       "      <td>163</td>\n",
       "      <td>NGA</td>\n",
       "      <td>Nigeria</td>\n",
       "      <td>5</td>\n",
       "      <td>Bauchi</td>\n",
       "      <td>State</td>\n",
       "      <td>State</td>\n",
       "      <td>None</td>\n",
       "      <td>None</td>\n",
       "      <td>POLYGON ((10.734446525573787 12.40430355072015...</td>\n",
       "    </tr>\n",
       "  </tbody>\n",
       "</table>\n",
       "</div>"
      ],
      "text/plain": [
       "   ID_0  ISO   NAME_0  ID_1     NAME_1 TYPE_1 ENGTYPE_1 NL_NAME_1 VARNAME_1  \\\n",
       "0   163  NGA  Nigeria     1       Abia  State     State      None      None   \n",
       "1   163  NGA  Nigeria     2    Adamawa  State     State      None      None   \n",
       "2   163  NGA  Nigeria     3  Akwa Ibom  State     State      None      None   \n",
       "3   163  NGA  Nigeria     4    Anambra  State     State      None      None   \n",
       "4   163  NGA  Nigeria     5     Bauchi  State     State      None      None   \n",
       "\n",
       "                                             geomery  \n",
       "0  POLYGON ((7.508012771606559 6.009689807891846,...  \n",
       "1  POLYGON ((13.723860740661621 10.91172790527349...  \n",
       "2  MULTIPOLYGON (((7.610694885253963 4.4729170799...  \n",
       "3  POLYGON ((6.915181159973201 6.711037158966064,...  \n",
       "4  POLYGON ((10.734446525573787 12.40430355072015...  "
      ]
     },
     "execution_count": 51,
     "metadata": {},
     "output_type": "execute_result"
    }
   ],
   "source": [
    "con.sql('SELECT * EXCLUDE geom ,ST_AStext(geom) as geomery FROM nigeria_state').df().head()"
   ]
  },
  {
   "cell_type": "code",
   "execution_count": 22,
   "metadata": {
    "scrolled": true
   },
   "outputs": [
    {
     "name": "stdout",
     "output_type": "stream",
     "text": [
      "Wall time: 498 ms\n"
     ]
    },
    {
     "data": {
      "text/plain": [
       "┌──────────┬───────┬──────────┬──────────────────────┬─────────┬───────────────────────────────────────────────────────┐\n",
       "│  osm_id  │ code  │  fclass  │         name         │  type   │                         geom                          │\n",
       "│ varchar  │ int32 │ varchar  │       varchar        │ varchar │                       geometry                        │\n",
       "├──────────┼───────┼──────────┼──────────────────────┼─────────┼───────────────────────────────────────────────────────┤\n",
       "│ 10561268 │  1500 │ building │ NECOM House          │ NULL    │ POLYGON ((3.3974795 6.4464039, 3.3977594 6.4468257,…  │\n",
       "│ 28923442 │  1500 │ building │ Senate Building      │ NULL    │ POLYGON ((7.6544579 11.1506115, 7.6547851 11.150889…  │\n",
       "│ 30047438 │  1500 │ building │ NULL                 │ NULL    │ POLYGON ((3.9726911 7.3604027, 3.9730135 7.3607825,…  │\n",
       "│ 31895041 │  1500 │ building │ NULL                 │ NULL    │ POLYGON ((7.7204295 11.1023489, 7.720455 11.1025016…  │\n",
       "│ 223198   │  1500 │ building │ NULL                 │ stadium │ POLYGON ((7.4273327 10.4995944, 7.427363 10.4997478…  │\n",
       "│ 38942560 │  1500 │ building │ NULL                 │ NULL    │ POLYGON ((7.4431891 10.5701497, 7.4433172 10.571261…  │\n",
       "│ 39041234 │  1500 │ building │ Nigerian Airforce …  │ NULL    │ POLYGON ((7.4513934 10.5525396, 7.4515846 10.553277…  │\n",
       "│ 39239269 │  1500 │ building │ National Eye Centr…  │ NULL    │ POLYGON ((7.4024442 10.5739819, 7.4028295 10.574078…  │\n",
       "│ 39239270 │  1500 │ building │ National Eye Centr…  │ NULL    │ POLYGON ((7.4035066 10.5742573, 7.4040863 10.574406…  │\n",
       "│ 39239271 │  1500 │ building │ National Eye Centr…  │ NULL    │ POLYGON ((7.4038023 10.5737447, 7.4042016 10.573856…  │\n",
       "├──────────┴───────┴──────────┴──────────────────────┴─────────┴───────────────────────────────────────────────────────┤\n",
       "│ 10 rows                                                                                                    6 columns │\n",
       "└──────────────────────────────────────────────────────────────────────────────────────────────────────────────────────┘"
      ]
     },
     "execution_count": 22,
     "metadata": {},
     "output_type": "execute_result"
    }
   ],
   "source": [
    "%%time\n",
    "osm_building  = 'gis_osm_buildings_a_free_1.shp'\n",
    "building_data = os.path.join(data_folder, nigeria_osm, osm_building)\n",
    "# get the first 10 building data\n",
    "con.sql(f\"SELECT * FROM ST_Read('{building_data}') LIMIT 10\")"
   ]
  },
  {
   "cell_type": "markdown",
   "metadata": {},
   "source": [
    "Count the total number of building mapped in nigeria"
   ]
  },
  {
   "cell_type": "code",
   "execution_count": 21,
   "metadata": {},
   "outputs": [
    {
     "data": {
      "application/vnd.jupyter.widget-view+json": {
       "model_id": "b0d4f211aa9744d185885620ee4f9c01",
       "version_major": 2,
       "version_minor": 0
      },
      "text/plain": [
       "FloatProgress(value=0.0, layout=Layout(width='auto'), style=ProgressStyle(bar_color='black'))"
      ]
     },
     "metadata": {},
     "output_type": "display_data"
    },
    {
     "name": "stdout",
     "output_type": "stream",
     "text": [
      "┌──────────────┐\n",
      "│ count_star() │\n",
      "│    int64     │\n",
      "├──────────────┤\n",
      "│     10399995 │\n",
      "└──────────────┘\n",
      "\n",
      "Wall time: 6min 21s\n"
     ]
    }
   ],
   "source": [
    "%%time\n",
    "osm_building  = 'gis_osm_buildings_a_free_1.shp'\n",
    "building_data= os.path.join(data_folder, nigeria_osm, osm_building)\n",
    "# get the total numbers of building mapped on osm in Nigeria\n",
    "query = f\"SELECT COUNT(*) FROM ST_Read('{building_data}')\"\n",
    "print(con.sql(query))"
   ]
  },
  {
   "cell_type": "markdown",
   "metadata": {},
   "source": []
  },
  {
   "cell_type": "code",
   "execution_count": null,
   "metadata": {},
   "outputs": [],
   "source": [
    "%%timeit\n",
    "# lets try it with one and see then later we can use a loop to load the rest of the data into the database\n",
    "osm_building  = 'gis_osm_buildings_a_free_1.shp'\n",
    "building_data= os.path.join(data_folder, nigeria_osm, osm_building)\n",
    "# read the data into a dataframe\n",
    "# nga_state_gdf = gpd.read_file(nga_state_data)\n",
    "# print(nga_state_gdf)\n",
    "\n",
    "# pass the data into the database\n",
    "# create a new table from the contents of a DataFrame\n",
    "query = f\"DROP TABLE IF EXISTS osm_nigeria_building; \\\n",
    "        CREATE TABLE osm_nigeria_building AS SELECT * FROM  ST_Read('{nga_state_data}')\"\n",
    "con.execute(query)\n",
    "\n",
    "# if the tbale already exit all will need to do is to insert into the table\n",
    "# insert into an existing table from the contents of a DataFrame\n",
    "#con.execute(\"INSERT INTO existing_table SELECT * FROM loaded_Dataframe\")"
   ]
  },
  {
   "cell_type": "code",
   "execution_count": null,
   "metadata": {},
   "outputs": [],
   "source": []
  },
  {
   "cell_type": "code",
   "execution_count": null,
   "metadata": {},
   "outputs": [],
   "source": []
  },
  {
   "cell_type": "code",
   "execution_count": null,
   "metadata": {},
   "outputs": [],
   "source": []
  },
  {
   "cell_type": "markdown",
   "metadata": {},
   "source": [
    "use leafmap to visualize the nigeria buidling shapefile"
   ]
  },
  {
   "cell_type": "code",
   "execution_count": null,
   "metadata": {},
   "outputs": [],
   "source": []
  },
  {
   "cell_type": "markdown",
   "metadata": {},
   "source": [
    "Load data into the databse using sqalchemy method\n",
    "* read the data using pyogrio, the reason why pyogrio is used to load this data instead of the commonly known geopandas is because of the speed, it is 18x faster than geopandas.\n",
    "* Use a for loop to load all the data in the nigeria shapefile into the db that was connected to i.e \"nigeria.db\""
   ]
  },
  {
   "cell_type": "code",
   "execution_count": null,
   "metadata": {},
   "outputs": [],
   "source": [
    "%%timeit\n",
    "# lets try it with one and see then later we can use a loop to load the rest of the data into the database\n",
    "osm_building  = 'gis_osm_buildings_a_free_1.shp'\n",
    "budiling_data = os.path.join(home_folder, nigeria_folder, osm_building)\n",
    "# read the data into a dataframe\n",
    "buidling_gdf = pyogrio.read_dataframe(budiling_data)\n",
    "\n",
    "# pass the data into the database\n",
    "# create a new table from the contents of a DataFrame\n",
    "query = f\"CREATE TABLE osm_nigeria_builing AS SELECT * FROM  {buidling_gdf}').fetchall()\"\n",
    "print(con.execute(query))\n",
    "\n",
    "# if the tbale already exit all will need to do is to insert into the table\n",
    "# insert into an existing table from the contents of a DataFrame\n",
    "#con.execute(\"INSERT INTO existing_table SELECT * FROM loaded_Dataframe\")"
   ]
  },
  {
   "cell_type": "code",
   "execution_count": null,
   "metadata": {},
   "outputs": [],
   "source": [
    "%%timeit\n",
    "con.sql(\"SHOW TABLES\")"
   ]
  },
  {
   "cell_type": "code",
   "execution_count": null,
   "metadata": {},
   "outputs": [],
   "source": [
    "%%timeit\n",
    "# lets try it with one and see then later we can use a loop to load the rest of the data into the database\n",
    "osm_building  = 'gis_osm_buildings_a_free_1.shp'\n",
    "building_data = os.path.join(home_folder, nigeria_folder, osm_building)\n",
    "# pass the data into the database\n",
    "# create a new table from the contents of a DataFrame\n",
    "query = f\"CREATE TABLE osm_nigeria_builing AS SELECT * FROM ST_Read('{building_data}')\"\n",
    "print(con.execute(query))\n",
    "\n",
    "# if the tbale already exit all will need to do is to insert into the table\n",
    "# insert into an existing table from the contents of a DataFrame\n",
    "#con.execute(\"INSERT INTO existing_table SELECT * FROM loaded_Dataframe\")"
   ]
  },
  {
   "cell_type": "markdown",
   "metadata": {},
   "source": [
    "Show our table again to know if the data is already ingested into the database"
   ]
  },
  {
   "cell_type": "code",
   "execution_count": null,
   "metadata": {},
   "outputs": [],
   "source": [
    "con.sql(\"SHOW TABLES\")"
   ]
  },
  {
   "cell_type": "markdown",
   "metadata": {},
   "source": [
    "if that works for one, then we will pass the bulk table (data) into the db"
   ]
  },
  {
   "cell_type": "code",
   "execution_count": null,
   "metadata": {},
   "outputs": [],
   "source": [
    "# load the data in the osm nigeria shapefile folder\n",
    "home_folder = 'data'\n",
    "nigeria_folder = 'nigeria-latest-free_shp'\n",
    "data_folder = os.path.join(home_folder, nigeria_folder)\n",
    "data = os.listdir(data_folder)\n",
    "for item in data:\n",
    "    if item.endswith('.shp'):\n",
    "        print(item)\n",
    "        \n",
    "# pass the data into the database\n",
    "# create a new table from the contents of a DataFrame\n",
    "query = f\"CREATE TABLE osm_nigeria_builing AS SELECT * FROM ST_Read('{bulding_gdf}')\"\n",
    "print(con.execute(query))"
   ]
  },
  {
   "cell_type": "code",
   "execution_count": null,
   "metadata": {},
   "outputs": [],
   "source": []
  },
  {
   "cell_type": "code",
   "execution_count": null,
   "metadata": {},
   "outputs": [],
   "source": []
  },
  {
   "cell_type": "code",
   "execution_count": null,
   "metadata": {},
   "outputs": [],
   "source": []
  },
  {
   "cell_type": "code",
   "execution_count": null,
   "metadata": {},
   "outputs": [],
   "source": [
    "%sql duckdb:///:memory:\n",
    "# %sql duckdb:///path/to/file.db"
   ]
  },
  {
   "cell_type": "code",
   "execution_count": null,
   "metadata": {},
   "outputs": [],
   "source": [
    "%%sql\n",
    "\n",
    "SELECT * FROM duckdb_extensions();"
   ]
  },
  {
   "cell_type": "markdown",
   "metadata": {},
   "source": [
    "## References "
   ]
  },
  {
   "cell_type": "markdown",
   "metadata": {},
   "source": [
    "* https://duckdb.org/docs/api/python/data_ingestion"
   ]
  },
  {
   "cell_type": "code",
   "execution_count": null,
   "metadata": {},
   "outputs": [],
   "source": []
  }
 ],
 "metadata": {
  "kernelspec": {
   "display_name": "Python 3 (ipykernel)",
   "language": "python",
   "name": "python3"
  },
  "language_info": {
   "codemirror_mode": {
    "name": "ipython",
    "version": 3
   },
   "file_extension": ".py",
   "mimetype": "text/x-python",
   "name": "python",
   "nbconvert_exporter": "python",
   "pygments_lexer": "ipython3",
   "version": "3.9.16"
  },
  "latex_envs": {
   "LaTeX_envs_menu_present": true,
   "autoclose": false,
   "autocomplete": true,
   "bibliofile": "biblio.bib",
   "cite_by": "apalike",
   "current_citInitial": 1,
   "eqLabelWithNumbers": true,
   "eqNumInitial": 1,
   "hotkeys": {
    "equation": "Ctrl-E",
    "itemize": "Ctrl-I"
   },
   "labels_anchors": false,
   "latex_user_defs": false,
   "report_style_numbering": false,
   "user_envs_cfg": false
  }
 },
 "nbformat": 4,
 "nbformat_minor": 2
}
